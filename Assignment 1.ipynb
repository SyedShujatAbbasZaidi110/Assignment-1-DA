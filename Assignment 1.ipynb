{
 "cells": [
  {
   "cell_type": "code",
   "execution_count": 43,
   "id": "42dd7cca-8f56-45ac-9f3f-19374e72219c",
   "metadata": {},
   "outputs": [],
   "source": [
    "salaries = ['20k','40k','50k','60k','35k','89k','40k']"
   ]
  },
  {
   "cell_type": "code",
   "execution_count": 77,
   "id": "f62bbb29-cf62-4661-95bd-5bb581a87206",
   "metadata": {},
   "outputs": [],
   "source": [
    "# Ans 1"
   ]
  },
  {
   "cell_type": "code",
   "execution_count": 16,
   "id": "f1ee847a-58be-4e59-bbd7-1ee0d06d59f7",
   "metadata": {},
   "outputs": [
    {
     "name": "stdout",
     "output_type": "stream",
     "text": [
      "7\n"
     ]
    }
   ],
   "source": [
    "print(len(salaries))"
   ]
  },
  {
   "cell_type": "code",
   "execution_count": 79,
   "id": "896e9ad1-2f54-4daa-8562-1c165424df4b",
   "metadata": {},
   "outputs": [],
   "source": [
    "# Ans 2"
   ]
  },
  {
   "cell_type": "code",
   "execution_count": 25,
   "id": "4877009c-6e3b-4dc0-aa36-4ae3453c5507",
   "metadata": {},
   "outputs": [
    {
     "name": "stdout",
     "output_type": "stream",
     "text": [
      "50k\n"
     ]
    }
   ],
   "source": [
    "print(salaries[2])"
   ]
  },
  {
   "cell_type": "code",
   "execution_count": 81,
   "id": "0964e8db-78aa-4bee-82c0-0b5c79cc4447",
   "metadata": {},
   "outputs": [],
   "source": [
    "# Ans 3"
   ]
  },
  {
   "cell_type": "code",
   "execution_count": 29,
   "id": "eeb651d5-8836-47e9-9368-55b2830f775b",
   "metadata": {},
   "outputs": [
    {
     "name": "stdout",
     "output_type": "stream",
     "text": [
      "40k\n"
     ]
    }
   ],
   "source": [
    "print(salaries[-1])"
   ]
  },
  {
   "cell_type": "code",
   "execution_count": 83,
   "id": "e3c23c2e-f768-425e-b26d-e863106c609d",
   "metadata": {},
   "outputs": [],
   "source": [
    "# Ans 4"
   ]
  },
  {
   "cell_type": "code",
   "execution_count": 33,
   "id": "de662f13-0fb8-48c3-8782-03584e670034",
   "metadata": {},
   "outputs": [
    {
     "name": "stdout",
     "output_type": "stream",
     "text": [
      "['50k', '60k', '35k']\n"
     ]
    }
   ],
   "source": [
    "print(salaries[2:5])"
   ]
  },
  {
   "cell_type": "code",
   "execution_count": 85,
   "id": "b8413b77-2332-435e-82a2-3fe7fa0dc4a2",
   "metadata": {},
   "outputs": [],
   "source": [
    "# Ans 5"
   ]
  },
  {
   "cell_type": "code",
   "execution_count": 45,
   "id": "9e36cb7c-c98e-4cb8-b74f-f16f63909795",
   "metadata": {},
   "outputs": [
    {
     "name": "stdout",
     "output_type": "stream",
     "text": [
      "['20k', '40k', '50k', '60k', '35k', '89k', '40k', '100k']\n"
     ]
    }
   ],
   "source": [
    "salaries.append('100k')\n",
    "print(salaries)"
   ]
  },
  {
   "cell_type": "code",
   "execution_count": 87,
   "id": "53a35c9e-b0a0-4c21-8e8a-c95691e8b0d4",
   "metadata": {},
   "outputs": [],
   "source": [
    "# Ans 6"
   ]
  },
  {
   "cell_type": "code",
   "execution_count": 47,
   "id": "7d9fe45b-1456-481a-add9-c83ae8c1051a",
   "metadata": {},
   "outputs": [
    {
     "name": "stdout",
     "output_type": "stream",
     "text": [
      "['20k', '40k', '50k', '60k', '35k', '89k', '40k', '100k', '120k']\n"
     ]
    }
   ],
   "source": [
    "salaries += ['120k']\n",
    "print(salaries)"
   ]
  },
  {
   "cell_type": "code",
   "execution_count": 91,
   "id": "17850e03-44ac-4e06-9455-d2c5b7286c3a",
   "metadata": {},
   "outputs": [],
   "source": [
    "# Ans 7"
   ]
  },
  {
   "cell_type": "code",
   "execution_count": 55,
   "id": "d7171b3a-44d0-4876-b9d9-48e8d317ad91",
   "metadata": {
    "scrolled": true
   },
   "outputs": [
    {
     "name": "stdout",
     "output_type": "stream",
     "text": [
      "2\n"
     ]
    }
   ],
   "source": [
    "sameValue = salaries.count('40k')\n",
    "print(sameValue)"
   ]
  },
  {
   "cell_type": "code",
   "execution_count": 89,
   "id": "4beabacf-a4a1-4abf-9d61-288180ffeb86",
   "metadata": {},
   "outputs": [],
   "source": [
    "# Ans 8"
   ]
  },
  {
   "cell_type": "code",
   "execution_count": 61,
   "id": "b99e8b51-e71f-4f24-bdec-aa8bd601bc95",
   "metadata": {},
   "outputs": [
    {
     "name": "stdout",
     "output_type": "stream",
     "text": [
      "['20k', '90k', '40k', '50k', '60k', '35k', '89k', '40k', '100k', '120k']\n"
     ]
    }
   ],
   "source": [
    "salaries.insert(1 , '90k')\n",
    "print(salaries)"
   ]
  },
  {
   "cell_type": "code",
   "execution_count": 64,
   "id": "06e51e9e-75ce-4e3c-b09c-7986a08eec0a",
   "metadata": {},
   "outputs": [],
   "source": [
    "# Ans 9"
   ]
  },
  {
   "cell_type": "code",
   "execution_count": 66,
   "id": "e1a708f2-fad6-4bfb-bdc9-1d3b86fe5b61",
   "metadata": {},
   "outputs": [
    {
     "name": "stdout",
     "output_type": "stream",
     "text": [
      "['120k', '100k', '40k', '89k', '35k', '60k', '50k', '40k', '90k', '20k']\n"
     ]
    }
   ],
   "source": [
    "salaries.reverse()\n",
    "print(salaries)"
   ]
  },
  {
   "cell_type": "code",
   "execution_count": 68,
   "id": "bed70484-54ff-4ae7-be39-a9d7acad6440",
   "metadata": {},
   "outputs": [],
   "source": [
    "# Ans 10"
   ]
  },
  {
   "cell_type": "code",
   "execution_count": 74,
   "id": "9128fdfa-f0a1-4587-b0d5-80f4850c0b0f",
   "metadata": {},
   "outputs": [
    {
     "name": "stdout",
     "output_type": "stream",
     "text": [
      "['20k', '90k', '40k', '50k', '60k', '35k', '89k', '40k', '100k', '120k']\n"
     ]
    }
   ],
   "source": [
    "reversed_list = salaries[::-1]\n",
    "print(reversed_list)"
   ]
  },
  {
   "cell_type": "code",
   "execution_count": null,
   "id": "9aaec16d-f647-4100-9588-b2282d27f43f",
   "metadata": {},
   "outputs": [],
   "source": []
  }
 ],
 "metadata": {
  "kernelspec": {
   "display_name": "Python 3 (ipykernel)",
   "language": "python",
   "name": "python3"
  },
  "language_info": {
   "codemirror_mode": {
    "name": "ipython",
    "version": 3
   },
   "file_extension": ".py",
   "mimetype": "text/x-python",
   "name": "python",
   "nbconvert_exporter": "python",
   "pygments_lexer": "ipython3",
   "version": "3.12.7"
  }
 },
 "nbformat": 4,
 "nbformat_minor": 5
}
