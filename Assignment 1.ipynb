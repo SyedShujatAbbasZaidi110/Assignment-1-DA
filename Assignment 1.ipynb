{
 "cells": [
  {
   "cell_type": "markdown",
   "id": "b00562ea-2800-418e-b24a-400cb2a76235",
   "metadata": {},
   "source": [
    "## Assignment 1"
   ]
  },
  {
   "cell_type": "code",
   "execution_count": 2,
   "id": "42dd7cca-8f56-45ac-9f3f-19374e72219c",
   "metadata": {},
   "outputs": [],
   "source": [
    "salaries = ['20k','40k','50k','60k','35k','89k','40k']"
   ]
  },
  {
   "cell_type": "code",
   "execution_count": 3,
   "id": "f62bbb29-cf62-4661-95bd-5bb581a87206",
   "metadata": {},
   "outputs": [],
   "source": [
    "# Ans 1"
   ]
  },
  {
   "cell_type": "code",
   "execution_count": 4,
   "id": "f1ee847a-58be-4e59-bbd7-1ee0d06d59f7",
   "metadata": {},
   "outputs": [
    {
     "name": "stdout",
     "output_type": "stream",
     "text": [
      "7\n"
     ]
    }
   ],
   "source": [
    "print(len(salaries))"
   ]
  },
  {
   "cell_type": "code",
   "execution_count": 5,
   "id": "896e9ad1-2f54-4daa-8562-1c165424df4b",
   "metadata": {},
   "outputs": [],
   "source": [
    "# Ans 2"
   ]
  },
  {
   "cell_type": "code",
   "execution_count": 6,
   "id": "4877009c-6e3b-4dc0-aa36-4ae3453c5507",
   "metadata": {},
   "outputs": [
    {
     "name": "stdout",
     "output_type": "stream",
     "text": [
      "50k\n"
     ]
    }
   ],
   "source": [
    "print(salaries[2])"
   ]
  },
  {
   "cell_type": "code",
   "execution_count": 7,
   "id": "0964e8db-78aa-4bee-82c0-0b5c79cc4447",
   "metadata": {},
   "outputs": [],
   "source": [
    "# Ans 3"
   ]
  },
  {
   "cell_type": "code",
   "execution_count": 8,
   "id": "eeb651d5-8836-47e9-9368-55b2830f775b",
   "metadata": {},
   "outputs": [
    {
     "name": "stdout",
     "output_type": "stream",
     "text": [
      "40k\n"
     ]
    }
   ],
   "source": [
    "print(salaries[-1])"
   ]
  },
  {
   "cell_type": "code",
   "execution_count": 9,
   "id": "e3c23c2e-f768-425e-b26d-e863106c609d",
   "metadata": {},
   "outputs": [],
   "source": [
    "# Ans 4"
   ]
  },
  {
   "cell_type": "code",
   "execution_count": 10,
   "id": "de662f13-0fb8-48c3-8782-03584e670034",
   "metadata": {},
   "outputs": [
    {
     "name": "stdout",
     "output_type": "stream",
     "text": [
      "['50k', '60k', '35k']\n"
     ]
    }
   ],
   "source": [
    "print(salaries[2:5])"
   ]
  },
  {
   "cell_type": "code",
   "execution_count": 11,
   "id": "b8413b77-2332-435e-82a2-3fe7fa0dc4a2",
   "metadata": {},
   "outputs": [],
   "source": [
    "# Ans 5"
   ]
  },
  {
   "cell_type": "code",
   "execution_count": 12,
   "id": "9e36cb7c-c98e-4cb8-b74f-f16f63909795",
   "metadata": {},
   "outputs": [
    {
     "name": "stdout",
     "output_type": "stream",
     "text": [
      "['20k', '40k', '50k', '60k', '35k', '89k', '40k', '100k']\n"
     ]
    }
   ],
   "source": [
    "salaries.append('100k')\n",
    "print(salaries)"
   ]
  },
  {
   "cell_type": "code",
   "execution_count": 13,
   "id": "53a35c9e-b0a0-4c21-8e8a-c95691e8b0d4",
   "metadata": {},
   "outputs": [],
   "source": [
    "# Ans 6"
   ]
  },
  {
   "cell_type": "code",
   "execution_count": 14,
   "id": "7d9fe45b-1456-481a-add9-c83ae8c1051a",
   "metadata": {},
   "outputs": [
    {
     "name": "stdout",
     "output_type": "stream",
     "text": [
      "['20k', '40k', '50k', '60k', '35k', '89k', '40k', '100k', '120k']\n"
     ]
    }
   ],
   "source": [
    "salaries += ['120k']\n",
    "print(salaries)"
   ]
  },
  {
   "cell_type": "code",
   "execution_count": 15,
   "id": "e48780da-94fd-49ca-ad7b-8e995b686fb0",
   "metadata": {},
   "outputs": [],
   "source": [
    "# Ans 7"
   ]
  },
  {
   "cell_type": "code",
   "execution_count": 16,
   "id": "facb4d58-17c4-408b-a9aa-bc1a1f2d1f49",
   "metadata": {},
   "outputs": [
    {
     "name": "stdout",
     "output_type": "stream",
     "text": [
      "['20k', '40k', '55k', '60k', '35k', '89k', '40k', '100k', '120k']\n"
     ]
    }
   ],
   "source": [
    "salaries[2] = '55k'\n",
    "print(salaries)"
   ]
  },
  {
   "cell_type": "code",
   "execution_count": 17,
   "id": "17850e03-44ac-4e06-9455-d2c5b7286c3a",
   "metadata": {},
   "outputs": [],
   "source": [
    "# Ans 8"
   ]
  },
  {
   "cell_type": "code",
   "execution_count": 18,
   "id": "d7171b3a-44d0-4876-b9d9-48e8d317ad91",
   "metadata": {
    "scrolled": true
   },
   "outputs": [
    {
     "name": "stdout",
     "output_type": "stream",
     "text": [
      "2\n"
     ]
    }
   ],
   "source": [
    "same_value = salaries.count('40k')\n",
    "print(same_value)"
   ]
  },
  {
   "cell_type": "code",
   "execution_count": 19,
   "id": "4beabacf-a4a1-4abf-9d61-288180ffeb86",
   "metadata": {},
   "outputs": [],
   "source": [
    "# Ans 9"
   ]
  },
  {
   "cell_type": "code",
   "execution_count": 20,
   "id": "b99e8b51-e71f-4f24-bdec-aa8bd601bc95",
   "metadata": {},
   "outputs": [
    {
     "name": "stdout",
     "output_type": "stream",
     "text": [
      "['20k', '90k', '40k', '55k', '60k', '35k', '89k', '40k', '100k', '120k']\n"
     ]
    }
   ],
   "source": [
    "salaries.insert(1 , '90k')\n",
    "print(salaries)"
   ]
  },
  {
   "cell_type": "code",
   "execution_count": 21,
   "id": "06e51e9e-75ce-4e3c-b09c-7986a08eec0a",
   "metadata": {},
   "outputs": [],
   "source": [
    "# Ans 10"
   ]
  },
  {
   "cell_type": "code",
   "execution_count": 22,
   "id": "e1a708f2-fad6-4bfb-bdc9-1d3b86fe5b61",
   "metadata": {},
   "outputs": [
    {
     "name": "stdout",
     "output_type": "stream",
     "text": [
      "['120k', '100k', '40k', '89k', '35k', '60k', '55k', '40k', '90k', '20k']\n"
     ]
    }
   ],
   "source": [
    "salaries.reverse()\n",
    "print(salaries)"
   ]
  },
  {
   "cell_type": "code",
   "execution_count": 23,
   "id": "bed70484-54ff-4ae7-be39-a9d7acad6440",
   "metadata": {},
   "outputs": [],
   "source": [
    "# Ans 11"
   ]
  },
  {
   "cell_type": "code",
   "execution_count": 53,
   "id": "9128fdfa-f0a1-4587-b0d5-80f4850c0b0f",
   "metadata": {},
   "outputs": [
    {
     "name": "stdout",
     "output_type": "stream",
     "text": [
      "['20k', '90k', '40k', '55k', '60k', '35k', '89k', '40k', '100k', '120k']\n"
     ]
    }
   ],
   "source": [
    "salaries = salaries[::-1]\n",
    "print(salaries)"
   ]
  },
  {
   "cell_type": "raw",
   "id": "57522c6a-25ca-4e24-8fc1-18e96efac5ca",
   "metadata": {},
   "source": []
  },
  {
   "cell_type": "code",
   "execution_count": null,
   "id": "bc6f5eda-bcb7-4128-8d64-6c4a3fb67dba",
   "metadata": {},
   "outputs": [],
   "source": []
  },
  {
   "cell_type": "code",
   "execution_count": null,
   "id": "9aaec16d-f647-4100-9588-b2282d27f43f",
   "metadata": {},
   "outputs": [],
   "source": []
  },
  {
   "cell_type": "code",
   "execution_count": null,
   "id": "2b7e014f-6da3-4bff-b870-43fb97f31aa2",
   "metadata": {},
   "outputs": [],
   "source": []
  }
 ],
 "metadata": {
  "kernelspec": {
   "display_name": "Python 3 (ipykernel)",
   "language": "python",
   "name": "python3"
  },
  "language_info": {
   "codemirror_mode": {
    "name": "ipython",
    "version": 3
   },
   "file_extension": ".py",
   "mimetype": "text/x-python",
   "name": "python",
   "nbconvert_exporter": "python",
   "pygments_lexer": "ipython3",
   "version": "3.12.7"
  }
 },
 "nbformat": 4,
 "nbformat_minor": 5
}
